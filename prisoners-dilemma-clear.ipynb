{
 "cells": [
  {
   "cell_type": "code",
   "execution_count": 10,
   "metadata": {},
   "outputs": [],
   "source": [
    "import numpy as np"
   ]
  },
  {
   "cell_type": "code",
   "execution_count": 1,
   "metadata": {},
   "outputs": [],
   "source": [
    "class Player():\n",
    "    def __init__(self):\n",
    "        # 0 = betray\n",
    "        # 1 = stay silent\n",
    "        self.last_action = None\n",
    "        self.last_opponent_action = None\n",
    "        self.last_reward = None\n",
    "        self.score = 0 \n",
    "        \n",
    "    def doNextAction(self):\n",
    "        pass\n",
    "    \n",
    "    def applyReward(self, opponent_action, reward):\n",
    "        self.last_opponent_action = opponent_action\n",
    "        self.last_reward = reward\n",
    "        self.score = self.score + reward"
   ]
  },
  {
   "cell_type": "code",
   "execution_count": 2,
   "metadata": {},
   "outputs": [],
   "source": [
    "class RandomPlayer(Player):       \n",
    "    def doNextAction(self, iteration, iterations):\n",
    "        self.last_action = np.random.randint(0,2)\n",
    "        return self.last_action"
   ]
  },
  {
   "cell_type": "code",
   "execution_count": 3,
   "metadata": {},
   "outputs": [],
   "source": [
    "class BetrayingPlayer(Player):\n",
    "    def doNextAction(self, iteration, iterations):\n",
    "        self.last_action = 0\n",
    "        return self.last_action"
   ]
  },
  {
   "cell_type": "code",
   "execution_count": 4,
   "metadata": {},
   "outputs": [],
   "source": [
    "class SilentButRevengefulPlayer(Player):\n",
    "    def doNextAction(self, iteration, iterations):\n",
    "        if self.last_opponent_action == 0:\n",
    "            self.last_action = 0\n",
    "        else: \n",
    "            self.last_action = 1\n",
    "        return self.last_action"
   ]
  },
  {
   "cell_type": "code",
   "execution_count": 16,
   "metadata": {},
   "outputs": [],
   "source": [
    "class YourPlayer_A(Player):\n",
    "    def doNextAction(self, iteration, iterations):\n",
    "        return 0"
   ]
  },
  {
   "cell_type": "code",
   "execution_count": 13,
   "metadata": {},
   "outputs": [],
   "source": [
    "class YourPlayer_B(Player):\n",
    "    def doNextAction(self, iteration, iterations):\n",
    "        return 1"
   ]
  },
  {
   "cell_type": "code",
   "execution_count": 7,
   "metadata": {},
   "outputs": [],
   "source": [
    "class Game():\n",
    "    def __init__(self, player1, player2, payoff_matrix):\n",
    "        self.player1 = player1\n",
    "        self.player2 = player2\n",
    "        self.player1_score = 0\n",
    "        self.player2_score = 0\n",
    "        self.payoff_matrix = payoff_matrix\n",
    "        self.player1_action = None\n",
    "        self.player2_action = None\n",
    "    \n",
    "    def doOneGame(self, iteration, iterations):\n",
    "        self.player1_action = self.player1.doNextAction(iteration, iterations)\n",
    "        self.player2_action = self.player2.doNextAction(iteration, iterations)\n",
    "        \n",
    "        reward_player_1 = self.payoff_matrix[self.player1_action, self.player2_action, 0]\n",
    "        reward_player_2 = self.payoff_matrix[self.player1_action, self.player2_action, 1]\n",
    "        \n",
    "        self.player1_score = self.player1_score + reward_player_1\n",
    "        self.player2_score = self.player2_score + reward_player_2\n",
    "        \n",
    "        self.player1.applyReward(self.player2_action,reward_player_1)\n",
    "        self.player2.applyReward(self.player1_action,reward_player_2)\n",
    "        \n",
    "    def PrintResult(self, iteration, iterations):\n",
    "        print(\"Turn \" + str(iteration) + \" of \" + str(iterations))\n",
    "        print(\"\\tPlayer 1 action:\\t\", self.player1_action, \"\\tPlayer 2 action:\\t\", self.player2_action)\n",
    "        print(\"\\tPlayer 1 score:  \\t\", self.player1_score, \"\\tPlayer 2 score:  \\t\", self.player2_score)"
   ]
  },
  {
   "cell_type": "code",
   "execution_count": 8,
   "metadata": {},
   "outputs": [],
   "source": [
    "def init_payoff_matrix():\n",
    "    payoff_matrix = np.zeros((2, 2, 2)).astype(int)\n",
    "    \n",
    "    ### both stay silent\n",
    "    payoff_matrix[1, 1, 0] = 1\n",
    "    payoff_matrix[1, 1, 1] = 1\n",
    "\n",
    "    ### both betray\n",
    "    payoff_matrix[0, 0, 0] = 3\n",
    "    payoff_matrix[0, 0, 1] = 3\n",
    "\n",
    "    # P1 - betrays; P2 - stays silent\n",
    "    payoff_matrix[0, 1, 0] = 0\n",
    "    payoff_matrix[0, 1, 1] = 5\n",
    "    \n",
    "    # P1 - stays silent; P2 - betrays\n",
    "    payoff_matrix[1, 0, 0] = 5\n",
    "    payoff_matrix[1, 0, 1] = 0\n",
    "\n",
    "    \n",
    "    return payoff_matrix"
   ]
  },
  {
   "cell_type": "code",
   "execution_count": 11,
   "metadata": {},
   "outputs": [
    {
     "name": "stdout",
     "output_type": "stream",
     "text": "Turn 1 of 10\n\tPlayer 1 action:\t 0 \tPlayer 2 action:\t 0\n\tPlayer 1 score:  \t 3 \tPlayer 2 score:  \t 3\nTurn 2 of 10\n\tPlayer 1 action:\t 0 \tPlayer 2 action:\t 0\n\tPlayer 1 score:  \t 6 \tPlayer 2 score:  \t 6\nTurn 3 of 10\n\tPlayer 1 action:\t 0 \tPlayer 2 action:\t 0\n\tPlayer 1 score:  \t 9 \tPlayer 2 score:  \t 9\nTurn 4 of 10\n\tPlayer 1 action:\t 1 \tPlayer 2 action:\t 0\n\tPlayer 1 score:  \t 14 \tPlayer 2 score:  \t 9\nTurn 5 of 10\n\tPlayer 1 action:\t 0 \tPlayer 2 action:\t 0\n\tPlayer 1 score:  \t 17 \tPlayer 2 score:  \t 12\nTurn 6 of 10\n\tPlayer 1 action:\t 0 \tPlayer 2 action:\t 0\n\tPlayer 1 score:  \t 20 \tPlayer 2 score:  \t 15\nTurn 7 of 10\n\tPlayer 1 action:\t 1 \tPlayer 2 action:\t 0\n\tPlayer 1 score:  \t 25 \tPlayer 2 score:  \t 15\nTurn 8 of 10\n\tPlayer 1 action:\t 1 \tPlayer 2 action:\t 0\n\tPlayer 1 score:  \t 30 \tPlayer 2 score:  \t 15\nTurn 9 of 10\n\tPlayer 1 action:\t 1 \tPlayer 2 action:\t 0\n\tPlayer 1 score:  \t 35 \tPlayer 2 score:  \t 15\nTurn 10 of 10\n\tPlayer 1 action:\t 0 \tPlayer 2 action:\t 0\n\tPlayer 1 score:  \t 38 \tPlayer 2 score:  \t 18\n"
    }
   ],
   "source": [
    "def random_vs_betraying():\n",
    "    player1 = RandomPlayer()\n",
    "    player2 = BetrayingPlayer()\n",
    "    payoff_matrix = init_payoff_matrix()\n",
    "    game = Game(player1, player2, payoff_matrix)\n",
    "    \n",
    "    for i in range(10):\n",
    "        game.doOneGame(i + 1, 10)\n",
    "        game.PrintResult(i + 1, 10)\n",
    "random_vs_betraying()"
   ]
  },
  {
   "cell_type": "code",
   "execution_count": 17,
   "metadata": {},
   "outputs": [
    {
     "name": "stdout",
     "output_type": "stream",
     "text": "Turn 1 of 10\n\tPlayer 1 action:\t 0 \tPlayer 2 action:\t 0\n\tPlayer 1 score:  \t 3 \tPlayer 2 score:  \t 3\nTurn 2 of 10\n\tPlayer 1 action:\t 0 \tPlayer 2 action:\t 0\n\tPlayer 1 score:  \t 6 \tPlayer 2 score:  \t 6\nTurn 3 of 10\n\tPlayer 1 action:\t 0 \tPlayer 2 action:\t 0\n\tPlayer 1 score:  \t 9 \tPlayer 2 score:  \t 9\nTurn 4 of 10\n\tPlayer 1 action:\t 0 \tPlayer 2 action:\t 0\n\tPlayer 1 score:  \t 12 \tPlayer 2 score:  \t 12\nTurn 5 of 10\n\tPlayer 1 action:\t 0 \tPlayer 2 action:\t 0\n\tPlayer 1 score:  \t 15 \tPlayer 2 score:  \t 15\nTurn 6 of 10\n\tPlayer 1 action:\t 0 \tPlayer 2 action:\t 0\n\tPlayer 1 score:  \t 18 \tPlayer 2 score:  \t 18\nTurn 7 of 10\n\tPlayer 1 action:\t 0 \tPlayer 2 action:\t 0\n\tPlayer 1 score:  \t 21 \tPlayer 2 score:  \t 21\nTurn 8 of 10\n\tPlayer 1 action:\t 0 \tPlayer 2 action:\t 0\n\tPlayer 1 score:  \t 24 \tPlayer 2 score:  \t 24\nTurn 9 of 10\n\tPlayer 1 action:\t 0 \tPlayer 2 action:\t 0\n\tPlayer 1 score:  \t 27 \tPlayer 2 score:  \t 27\nTurn 10 of 10\n\tPlayer 1 action:\t 0 \tPlayer 2 action:\t 0\n\tPlayer 1 score:  \t 30 \tPlayer 2 score:  \t 30\n"
    }
   ],
   "source": [
    "def your_vs_betraying():\n",
    "    player1 = YourPlayer_A()\n",
    "    player2 = BetrayingPlayer()\n",
    "    payoff_matrix = init_payoff_matrix()\n",
    "    game = Game(player1, player2, payoff_matrix)\n",
    "    \n",
    "    for i in range(10):\n",
    "        game.doOneGame(i + 1, 10)\n",
    "        game.PrintResult(i + 1, 10)\n",
    "        \n",
    "your_vs_betraying()"
   ]
  },
  {
   "cell_type": "code",
   "execution_count": 18,
   "metadata": {},
   "outputs": [
    {
     "name": "stdout",
     "output_type": "stream",
     "text": "Turn 1 of 10\n\tPlayer 1 action:\t 1 \tPlayer 2 action:\t 1\n\tPlayer 1 score:  \t 1 \tPlayer 2 score:  \t 1\nTurn 2 of 10\n\tPlayer 1 action:\t 1 \tPlayer 2 action:\t 1\n\tPlayer 1 score:  \t 2 \tPlayer 2 score:  \t 2\nTurn 3 of 10\n\tPlayer 1 action:\t 1 \tPlayer 2 action:\t 1\n\tPlayer 1 score:  \t 3 \tPlayer 2 score:  \t 3\nTurn 4 of 10\n\tPlayer 1 action:\t 1 \tPlayer 2 action:\t 1\n\tPlayer 1 score:  \t 4 \tPlayer 2 score:  \t 4\nTurn 5 of 10\n\tPlayer 1 action:\t 1 \tPlayer 2 action:\t 1\n\tPlayer 1 score:  \t 5 \tPlayer 2 score:  \t 5\nTurn 6 of 10\n\tPlayer 1 action:\t 1 \tPlayer 2 action:\t 1\n\tPlayer 1 score:  \t 6 \tPlayer 2 score:  \t 6\nTurn 7 of 10\n\tPlayer 1 action:\t 1 \tPlayer 2 action:\t 1\n\tPlayer 1 score:  \t 7 \tPlayer 2 score:  \t 7\nTurn 8 of 10\n\tPlayer 1 action:\t 1 \tPlayer 2 action:\t 1\n\tPlayer 1 score:  \t 8 \tPlayer 2 score:  \t 8\nTurn 9 of 10\n\tPlayer 1 action:\t 1 \tPlayer 2 action:\t 1\n\tPlayer 1 score:  \t 9 \tPlayer 2 score:  \t 9\nTurn 10 of 10\n\tPlayer 1 action:\t 1 \tPlayer 2 action:\t 1\n\tPlayer 1 score:  \t 10 \tPlayer 2 score:  \t 10\n"
    }
   ],
   "source": [
    "def your_vs_revengeful():\n",
    "    player1 = YourPlayer_B()\n",
    "    player2 = SilentButRevengefulPlayer()\n",
    "    payoff_matrix = init_payoff_matrix()\n",
    "    game = Game(player1, player2, payoff_matrix)\n",
    "    \n",
    "    for i in range(10):\n",
    "        game.doOneGame(i + 1, 10)\n",
    "        game.PrintResult(i + 1, 10)\n",
    "        \n",
    "your_vs_revengeful()"
   ]
  },
  {
   "cell_type": "code",
   "execution_count": null,
   "metadata": {
    "collapsed": true
   },
   "outputs": [],
   "source": []
  },
  {
   "cell_type": "code",
   "execution_count": null,
   "metadata": {
    "collapsed": true
   },
   "outputs": [],
   "source": []
  }
 ],
 "metadata": {
  "kernelspec": {
   "display_name": "Python 3",
   "language": "python",
   "name": "python3"
  },
  "language_info": {
   "codemirror_mode": {
    "name": "ipython",
    "version": 3
   },
   "file_extension": ".py",
   "mimetype": "text/x-python",
   "name": "python",
   "nbconvert_exporter": "python",
   "pygments_lexer": "ipython3",
   "version": "3.5.0"
  },
  "widgets": {
   "state": {},
   "version": "1.1.2"
  }
 },
 "nbformat": 4,
 "nbformat_minor": 2
}